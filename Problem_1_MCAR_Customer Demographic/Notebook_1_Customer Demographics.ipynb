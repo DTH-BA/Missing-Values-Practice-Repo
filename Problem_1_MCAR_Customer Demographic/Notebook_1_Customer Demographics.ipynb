{
 "cells": [
  {
   "cell_type": "markdown",
   "id": "09968b22-4897-420a-8154-af832b26b3d9",
   "metadata": {},
   "source": [
    "# Problem 1 - MCAR: Customer Demographics\n",
    "\n",
    "## Context\n",
    "This dataset simulates customer demographic information. One variable (`Age`) has missing values.\n",
    "\n",
    "**Goal:**\n",
    "1. Diagnose the missingness type (MCAR/MAR/MNAR).\n",
    "2. Select and justify a hoandling strategy.\n",
    "3. Evaluate impact on analysis/modeling.\n",
    "4. Summarize recommended playbook."
   ]
  },
  {
   "cell_type": "code",
   "execution_count": 1,
   "id": "15f5911b-d2f4-472b-9c5e-49022604b4f3",
   "metadata": {},
   "outputs": [
    {
     "data": {
      "text/html": [
       "<div>\n",
       "<style scoped>\n",
       "    .dataframe tbody tr th:only-of-type {\n",
       "        vertical-align: middle;\n",
       "    }\n",
       "\n",
       "    .dataframe tbody tr th {\n",
       "        vertical-align: top;\n",
       "    }\n",
       "\n",
       "    .dataframe thead th {\n",
       "        text-align: right;\n",
       "    }\n",
       "</style>\n",
       "<table border=\"1\" class=\"dataframe\">\n",
       "  <thead>\n",
       "    <tr style=\"text-align: right;\">\n",
       "      <th></th>\n",
       "      <th>CustomerID</th>\n",
       "      <th>Age</th>\n",
       "      <th>Gender</th>\n",
       "      <th>Income</th>\n",
       "      <th>City</th>\n",
       "    </tr>\n",
       "  </thead>\n",
       "  <tbody>\n",
       "    <tr>\n",
       "      <th>0</th>\n",
       "      <td>1</td>\n",
       "      <td>41.0</td>\n",
       "      <td>Male</td>\n",
       "      <td>66575</td>\n",
       "      <td>Toronto</td>\n",
       "    </tr>\n",
       "    <tr>\n",
       "      <th>1</th>\n",
       "      <td>2</td>\n",
       "      <td>35.0</td>\n",
       "      <td>Female</td>\n",
       "      <td>12272</td>\n",
       "      <td>Vancouver</td>\n",
       "    </tr>\n",
       "    <tr>\n",
       "      <th>2</th>\n",
       "      <td>3</td>\n",
       "      <td>42.0</td>\n",
       "      <td>Female</td>\n",
       "      <td>72231</td>\n",
       "      <td>Toronto</td>\n",
       "    </tr>\n",
       "    <tr>\n",
       "      <th>3</th>\n",
       "      <td>4</td>\n",
       "      <td>51.0</td>\n",
       "      <td>Female</td>\n",
       "      <td>28904</td>\n",
       "      <td>Sydney</td>\n",
       "    </tr>\n",
       "    <tr>\n",
       "      <th>4</th>\n",
       "      <td>5</td>\n",
       "      <td>34.0</td>\n",
       "      <td>Female</td>\n",
       "      <td>49563</td>\n",
       "      <td>Toronto</td>\n",
       "    </tr>\n",
       "  </tbody>\n",
       "</table>\n",
       "</div>"
      ],
      "text/plain": [
       "   CustomerID   Age  Gender  Income       City\n",
       "0           1  41.0    Male   66575    Toronto\n",
       "1           2  35.0  Female   12272  Vancouver\n",
       "2           3  42.0  Female   72231    Toronto\n",
       "3           4  51.0  Female   28904     Sydney\n",
       "4           5  34.0  Female   49563    Toronto"
      ]
     },
     "execution_count": 1,
     "metadata": {},
     "output_type": "execute_result"
    }
   ],
   "source": [
    "import pandas as pd\n",
    "import seaborn as sns\n",
    "import matplotlib.pyplot as plt\n",
    "\n",
    "# Load dataset\n",
    "df = pd.read_csv(r'C:\\Users\\theha\\OneDrive\\Desktop\\Projects\\Mini_Project_Missing_Values\\problem1_mcar_customer_demographics.csv')\n",
    "\n",
    "# Peek data\n",
    "df.head()"
   ]
  },
  {
   "cell_type": "markdown",
   "id": "0a0949e2-08ee-42c7-aa43-28c3cf05f403",
   "metadata": {},
   "source": [
    "## Step 1: Data Overview\n",
    "\n",
    "We start by checking:\n",
    "- Shape of dataset\n",
    "- Data types\n",
    "- Missing values summary\n",
    "- Basic statistics"
   ]
  },
  {
   "cell_type": "code",
   "execution_count": 2,
   "id": "f240ff42-cf87-4f82-b320-c1155d948bba",
   "metadata": {},
   "outputs": [
    {
     "data": {
      "text/plain": [
       "(600, 5)"
      ]
     },
     "metadata": {},
     "output_type": "display_data"
    },
    {
     "name": "stdout",
     "output_type": "stream",
     "text": [
      "<class 'pandas.core.frame.DataFrame'>\n",
      "RangeIndex: 600 entries, 0 to 599\n",
      "Data columns (total 5 columns):\n",
      " #   Column      Non-Null Count  Dtype  \n",
      "---  ------      --------------  -----  \n",
      " 0   CustomerID  600 non-null    int64  \n",
      " 1   Age         539 non-null    float64\n",
      " 2   Gender      600 non-null    object \n",
      " 3   Income      600 non-null    int64  \n",
      " 4   City        600 non-null    object \n",
      "dtypes: float64(1), int64(2), object(2)\n",
      "memory usage: 23.6+ KB\n"
     ]
    },
    {
     "data": {
      "text/plain": [
       "CustomerID     0\n",
       "Age           61\n",
       "Gender         0\n",
       "Income         0\n",
       "City           0\n",
       "dtype: int64"
      ]
     },
     "metadata": {},
     "output_type": "display_data"
    },
    {
     "data": {
      "text/plain": [
       "CustomerID     0.00\n",
       "Age           10.17\n",
       "Gender         0.00\n",
       "Income         0.00\n",
       "City           0.00\n",
       "dtype: float64"
      ]
     },
     "metadata": {},
     "output_type": "display_data"
    },
    {
     "data": {
      "text/html": [
       "<div>\n",
       "<style scoped>\n",
       "    .dataframe tbody tr th:only-of-type {\n",
       "        vertical-align: middle;\n",
       "    }\n",
       "\n",
       "    .dataframe tbody tr th {\n",
       "        vertical-align: top;\n",
       "    }\n",
       "\n",
       "    .dataframe thead th {\n",
       "        text-align: right;\n",
       "    }\n",
       "</style>\n",
       "<table border=\"1\" class=\"dataframe\">\n",
       "  <thead>\n",
       "    <tr style=\"text-align: right;\">\n",
       "      <th></th>\n",
       "      <th>CustomerID</th>\n",
       "      <th>Age</th>\n",
       "      <th>Gender</th>\n",
       "      <th>Income</th>\n",
       "      <th>City</th>\n",
       "    </tr>\n",
       "  </thead>\n",
       "  <tbody>\n",
       "    <tr>\n",
       "      <th>count</th>\n",
       "      <td>600.000000</td>\n",
       "      <td>539.000000</td>\n",
       "      <td>600</td>\n",
       "      <td>600.000000</td>\n",
       "      <td>600</td>\n",
       "    </tr>\n",
       "    <tr>\n",
       "      <th>unique</th>\n",
       "      <td>NaN</td>\n",
       "      <td>NaN</td>\n",
       "      <td>3</td>\n",
       "      <td>NaN</td>\n",
       "      <td>5</td>\n",
       "    </tr>\n",
       "    <tr>\n",
       "      <th>top</th>\n",
       "      <td>NaN</td>\n",
       "      <td>NaN</td>\n",
       "      <td>Female</td>\n",
       "      <td>NaN</td>\n",
       "      <td>Sydney</td>\n",
       "    </tr>\n",
       "    <tr>\n",
       "      <th>freq</th>\n",
       "      <td>NaN</td>\n",
       "      <td>NaN</td>\n",
       "      <td>295</td>\n",
       "      <td>NaN</td>\n",
       "      <td>130</td>\n",
       "    </tr>\n",
       "    <tr>\n",
       "      <th>mean</th>\n",
       "      <td>300.500000</td>\n",
       "      <td>35.742115</td>\n",
       "      <td>NaN</td>\n",
       "      <td>56031.271667</td>\n",
       "      <td>NaN</td>\n",
       "    </tr>\n",
       "    <tr>\n",
       "      <th>std</th>\n",
       "      <td>173.349358</td>\n",
       "      <td>9.663978</td>\n",
       "      <td>NaN</td>\n",
       "      <td>15344.597677</td>\n",
       "      <td>NaN</td>\n",
       "    </tr>\n",
       "    <tr>\n",
       "      <th>min</th>\n",
       "      <td>1.000000</td>\n",
       "      <td>4.000000</td>\n",
       "      <td>NaN</td>\n",
       "      <td>11180.000000</td>\n",
       "      <td>NaN</td>\n",
       "    </tr>\n",
       "    <tr>\n",
       "      <th>25%</th>\n",
       "      <td>150.750000</td>\n",
       "      <td>29.000000</td>\n",
       "      <td>NaN</td>\n",
       "      <td>45347.000000</td>\n",
       "      <td>NaN</td>\n",
       "    </tr>\n",
       "    <tr>\n",
       "      <th>50%</th>\n",
       "      <td>300.500000</td>\n",
       "      <td>36.000000</td>\n",
       "      <td>NaN</td>\n",
       "      <td>55852.500000</td>\n",
       "      <td>NaN</td>\n",
       "    </tr>\n",
       "    <tr>\n",
       "      <th>75%</th>\n",
       "      <td>450.250000</td>\n",
       "      <td>42.000000</td>\n",
       "      <td>NaN</td>\n",
       "      <td>66030.500000</td>\n",
       "      <td>NaN</td>\n",
       "    </tr>\n",
       "    <tr>\n",
       "      <th>max</th>\n",
       "      <td>600.000000</td>\n",
       "      <td>75.000000</td>\n",
       "      <td>NaN</td>\n",
       "      <td>102897.000000</td>\n",
       "      <td>NaN</td>\n",
       "    </tr>\n",
       "  </tbody>\n",
       "</table>\n",
       "</div>"
      ],
      "text/plain": [
       "        CustomerID         Age  Gender         Income    City\n",
       "count   600.000000  539.000000     600     600.000000     600\n",
       "unique         NaN         NaN       3            NaN       5\n",
       "top            NaN         NaN  Female            NaN  Sydney\n",
       "freq           NaN         NaN     295            NaN     130\n",
       "mean    300.500000   35.742115     NaN   56031.271667     NaN\n",
       "std     173.349358    9.663978     NaN   15344.597677     NaN\n",
       "min       1.000000    4.000000     NaN   11180.000000     NaN\n",
       "25%     150.750000   29.000000     NaN   45347.000000     NaN\n",
       "50%     300.500000   36.000000     NaN   55852.500000     NaN\n",
       "75%     450.250000   42.000000     NaN   66030.500000     NaN\n",
       "max     600.000000   75.000000     NaN  102897.000000     NaN"
      ]
     },
     "execution_count": 2,
     "metadata": {},
     "output_type": "execute_result"
    }
   ],
   "source": [
    "from IPython.display import display\n",
    "\n",
    "# Shape\n",
    "display(df.shape)\n",
    "\n",
    "# Info\n",
    "df.info()\n",
    "\n",
    "# Missing summary\n",
    "display(df.isnull().sum())\n",
    "\n",
    "# Percentage\n",
    "display((df.isnull().mean() * 100).round(2))\n",
    "\n",
    "# Quick statistics\n",
    "df.describe(include=\"all\")"
   ]
  },
  {
   "cell_type": "markdown",
   "id": "ae0ac78d-c7a9-432f-b8d0-21cf573d2d50",
   "metadata": {},
   "source": [
    "## Step 2: Missingness Exploration\n",
    "\n",
    "We check if `Age` missingness is random or depends on other variables."
   ]
  },
  {
   "cell_type": "code",
   "execution_count": 3,
   "id": "bf8b3889-edf2-445d-8a22-322c6bf53f69",
   "metadata": {},
   "outputs": [
    {
     "data": {
      "image/png": "[encoded data removed]",
      "text/plain": [
       "<Figure size 640x480 with 1 Axes>"
      ]
     },
     "metadata": {},
     "output_type": "display_data"
    },
    {
     "data": {
      "image/png": "[encoded data removed]",
      "text/plain": [
       "<Figure size 640x480 with 1 Axes>"
      ]
     },
     "metadata": {},
     "output_type": "display_data"
    },
    {
     "data": {
      "image/png": "[encoded data removed]",
      "text/plain": [
       "<Figure size 640x480 with 1 Axes>"
      ]
     },
     "metadata": {},
     "output_type": "display_data"
    }
   ],
   "source": [
    "# Heatmap of missing values\n",
    "sns.heatmap(df.isnull(), cbar=False)\n",
    "plt.show()\n",
    "\n",
    "# Compare Age distribution by Gender\n",
    "sns.boxplot(x=\"Gender\", y=\"Age\", data=df)\n",
    "plt.show()\n",
    "\n",
    "# Compare Age distribution by City\n",
    "sns.boxplot(x=\"City\", y=\"Age\", data=df)\n",
    "plt.show()"
   ]
  },
  {
   "cell_type": "markdown",
   "id": "b2045c1a-1fd8-4948-98a1-907ce794e4a7",
   "metadata": {},
   "source": [
    "## Step 3: Handling Strategies\n",
    "\n",
    "We will try 3 approaches for handling the missing values in `Age`:\n",
    "\n",
    "1. **Drop rows with missing `Age`**  \n",
    "    -> Simple, but loses ~10% of data\n",
    "\n",
    "2. **Median Imputation**  \n",
    "    -> Keeps all rows, robust to skewed distribution.\n",
    "\n",
    "3. **KNN Imputation**  \n",
    "    -> Uses other features (`Gender`, `Income`, `City`) to predict missing **Age**."
   ]
  },
  {
   "cell_type": "code",
   "execution_count": 4,
   "id": "c5201ab3-b6ee-477f-ac2f-5c0c9c0fd6b1",
   "metadata": {},
   "outputs": [],
   "source": [
    "from sklearn.impute import KNNImputer\n",
    "\n",
    "# 1. Drop rows with missing Age\n",
    "df_drop = df.dropna(subset=['Age']).copy()\n",
    "\n",
    "# 2. Median Imputation\n",
    "df_median = df.copy()\n",
    "median_age = df['Age'].median()\n",
    "df_median['Age'] = df_median['Age'].fillna(median_age)\n",
    "\n",
    "# 3. KNN Imputation\n",
    "df_knn = df.copy()\n",
    "# just keeps numeric col to KNN active (Age, Income)\n",
    "# Then could encdode more Gender/ City if would like to upgrade\n",
    "knn_imputer = KNNImputer(n_neighbors=5)\n",
    "df_knn[['Age','Income']] = knn_imputer.fit_transform(df_knn[['Age', 'Income']])"
   ]
  },
  {
   "cell_type": "code",
   "execution_count": 5,
   "id": "d737da52-f248-400e-ba40-37feccf41e5b",
   "metadata": {},
   "outputs": [
    {
     "name": "stdout",
     "output_type": "stream",
     "text": [
      "Original missing:\n",
      " CustomerID     0\n",
      "Age           61\n",
      "Gender         0\n",
      "Income         0\n",
      "City           0\n",
      "dtype: int64\n",
      "\n",
      "After Drop:\n",
      " CustomerID    0\n",
      "Age           0\n",
      "Gender        0\n",
      "Income        0\n",
      "City          0\n",
      "dtype: int64\n",
      "\n",
      "After Median:\n",
      " CustomerID    0\n",
      "Age           0\n",
      "Gender        0\n",
      "Income        0\n",
      "City          0\n",
      "dtype: int64\n",
      "\n",
      "After KNN:\n",
      " CustomerID    0\n",
      "Age           0\n",
      "Gender        0\n",
      "Income        0\n",
      "City          0\n",
      "dtype: int64\n"
     ]
    }
   ],
   "source": [
    "print(\"Original missing:\\n\", df.isnull().sum())\n",
    "print(\"\\nAfter Drop:\\n\", df_drop.isnull().sum())\n",
    "print(\"\\nAfter Median:\\n\", df_median.isnull().sum())\n",
    "print(\"\\nAfter KNN:\\n\", df_knn.isnull().sum())"
   ]
  },
  {
   "cell_type": "markdown",
   "id": "6a024ca7-5396-40a4-be4f-1797f0ca2e4d",
   "metadata": {},
   "source": [
    "## Step 4: Evaluate the Impact\n",
    "\n",
    "We compare the distributions of `Age` under 3 handling strategies:\n",
    "1. Drop rows\n",
    "2. Median Imputation\n",
    "3. KNN Imputation\n",
    "\n",
    "We check:\n",
    "- Histogram & boxplot of Age\n",
    "- Summary statistics (mean, median, std)\n",
    "- (Optional) Impact on a simple model, e.g. predicting Income ~ Age"
   ]
  },
  {
   "cell_type": "code",
   "execution_count": 6,
   "id": "f41763c0-3359-428c-bbaa-e2b0e07ff59c",
   "metadata": {},
   "outputs": [
    {
     "data": {
      "image/png": "[encoded data removed]",
      "text/plain": [
       "<Figure size 1800x500 with 3 Axes>"
      ]
     },
     "metadata": {},
     "output_type": "display_data"
    }
   ],
   "source": [
    "import matplotlib.pyplot as plt\n",
    "\n",
    "fig, axes = plt.subplots(1, 3, figsize=(18,5), sharey=True)\n",
    "\n",
    "# Drop\n",
    "axes[0].hist(df_drop['Age'], bins=20, color='skyblue', edgecolor='black')\n",
    "axes[0].set_title(\"Drop Rows\")\n",
    "\n",
    "# Median\n",
    "axes[1].hist(df_median['Age'], bins=20, color='lightgreen', edgecolor='black')\n",
    "axes[1].set_title(\"Median Imputation\")\n",
    "\n",
    "# KNN\n",
    "axes[2].hist(df_knn['Age'], bins=20, color='salmon', edgecolor='black')\n",
    "axes[2].set_title(\"KNN Imputation\")\n",
    "\n",
    "for ax in axes:\n",
    "    ax.set_xlabel(\"Age\")\n",
    "    ax.set_ylabel(\"Count\")\n",
    "\n",
    "plt.suptitle(\"Comparison of Age Distributions\", fontsize=16)\n",
    "plt.show()"
   ]
  },
  {
   "cell_type": "markdown",
   "id": "6c4b55be-d88b-4f1c-8eb5-fd5a3398826a",
   "metadata": {},
   "source": [
    "### Step 4: Evaluation – Insights\n",
    "\n",
    "- **Drop Rows:** Preserves the natural distribution of `Age`, but reduces sample size (600 → 539).  \n",
    "- **Median Imputation:** Keeps all rows, but creates an artificial “spike” at the median → distorts the distribution.  \n",
    "- **KNN Imputation:** Retains all data and reconstructs a more natural distribution by leveraging other features.\n",
    "\n",
    "### Conclusion:  \n",
    "- With large datasets, **Drop Rows** is acceptable.  \n",
    "- To preserve all data, **KNN Imputation** is more realistic than Median.  \n",
    "- **Median** is suitable as a quick and simple fix."
   ]
  },
  {
   "cell_type": "code",
   "execution_count": 7,
   "id": "c62c24b8-1c19-4dc6-a723-417b6eba00bc",
   "metadata": {},
   "outputs": [
    {
     "data": {
      "text/html": [
       "<div>\n",
       "<style scoped>\n",
       "    .dataframe tbody tr th:only-of-type {\n",
       "        vertical-align: middle;\n",
       "    }\n",
       "\n",
       "    .dataframe tbody tr th {\n",
       "        vertical-align: top;\n",
       "    }\n",
       "\n",
       "    .dataframe thead th {\n",
       "        text-align: right;\n",
       "    }\n",
       "</style>\n",
       "<table border=\"1\" class=\"dataframe\">\n",
       "  <thead>\n",
       "    <tr style=\"text-align: right;\">\n",
       "      <th></th>\n",
       "      <th>Original</th>\n",
       "      <th>Drop</th>\n",
       "      <th>Median</th>\n",
       "      <th>KNN</th>\n",
       "    </tr>\n",
       "  </thead>\n",
       "  <tbody>\n",
       "    <tr>\n",
       "      <th>count</th>\n",
       "      <td>539.000000</td>\n",
       "      <td>539.000000</td>\n",
       "      <td>600.000000</td>\n",
       "      <td>600.000000</td>\n",
       "    </tr>\n",
       "    <tr>\n",
       "      <th>mean</th>\n",
       "      <td>35.742115</td>\n",
       "      <td>35.742115</td>\n",
       "      <td>35.768333</td>\n",
       "      <td>35.707667</td>\n",
       "    </tr>\n",
       "    <tr>\n",
       "      <th>std</th>\n",
       "      <td>9.663978</td>\n",
       "      <td>9.663978</td>\n",
       "      <td>9.159029</td>\n",
       "      <td>9.279281</td>\n",
       "    </tr>\n",
       "    <tr>\n",
       "      <th>min</th>\n",
       "      <td>4.000000</td>\n",
       "      <td>4.000000</td>\n",
       "      <td>4.000000</td>\n",
       "      <td>4.000000</td>\n",
       "    </tr>\n",
       "    <tr>\n",
       "      <th>25%</th>\n",
       "      <td>29.000000</td>\n",
       "      <td>29.000000</td>\n",
       "      <td>30.000000</td>\n",
       "      <td>29.000000</td>\n",
       "    </tr>\n",
       "    <tr>\n",
       "      <th>50%</th>\n",
       "      <td>36.000000</td>\n",
       "      <td>36.000000</td>\n",
       "      <td>36.000000</td>\n",
       "      <td>36.000000</td>\n",
       "    </tr>\n",
       "    <tr>\n",
       "      <th>75%</th>\n",
       "      <td>42.000000</td>\n",
       "      <td>42.000000</td>\n",
       "      <td>41.000000</td>\n",
       "      <td>42.000000</td>\n",
       "    </tr>\n",
       "    <tr>\n",
       "      <th>max</th>\n",
       "      <td>75.000000</td>\n",
       "      <td>75.000000</td>\n",
       "      <td>75.000000</td>\n",
       "      <td>75.000000</td>\n",
       "    </tr>\n",
       "  </tbody>\n",
       "</table>\n",
       "</div>"
      ],
      "text/plain": [
       "         Original        Drop      Median         KNN\n",
       "count  539.000000  539.000000  600.000000  600.000000\n",
       "mean    35.742115   35.742115   35.768333   35.707667\n",
       "std      9.663978    9.663978    9.159029    9.279281\n",
       "min      4.000000    4.000000    4.000000    4.000000\n",
       "25%     29.000000   29.000000   30.000000   29.000000\n",
       "50%     36.000000   36.000000   36.000000   36.000000\n",
       "75%     42.000000   42.000000   41.000000   42.000000\n",
       "max     75.000000   75.000000   75.000000   75.000000"
      ]
     },
     "execution_count": 7,
     "metadata": {},
     "output_type": "execute_result"
    }
   ],
   "source": [
    "summary = pd.DataFrame({\n",
    "    \"Original\": df['Age'].describe(),\n",
    "    \"Drop\": df_drop['Age'].describe(),\n",
    "    \"Median\": df_median['Age'].describe(),\n",
    "    \"KNN\": df_knn['Age'].describe()\n",
    "})\n",
    "summary"
   ]
  },
  {
   "cell_type": "markdown",
   "id": "26a58a24-33d7-4e84-86c6-e6f5bb13ff08",
   "metadata": {},
   "source": [
    "### Summary Statistics – Insights\n",
    "\n",
    "- **Drop Rows:** Distribution remains unchanged, but dataset shrinks (539 rows).  \n",
    "- **Median Imputation:** Preserves sample size but reduces variance (std ↓) and creates concentration at the median.  \n",
    "- **KNN Imputation:** Preserves sample size and closely matches the original distribution’s mean, median, and spread.  \n",
    "\n",
    "### Conclusion:  \n",
    "KNN is the best balance between preserving data and maintaining statistical properties, while Drop is acceptable if data loss is not an issue. Median should be considered only for quick fixes."
   ]
  },
  {
   "cell_type": "markdown",
   "id": "d70d66fe-63c4-4fd2-bd25-4bd2c1a9ba9f",
   "metadata": {},
   "source": [
    "# Playbook Summary – MCAR (~10% missing)\n",
    "\n",
    "- **Diagnosis:** Missingness in `Age` appears random (no clear relation to Gender/City/Income). Little’s Test could confirm MCAR.\n",
    "- **Handling options:**\n",
    "  - **Drop Rows:** Safe if dataset is large; no distribution distortion but data loss.\n",
    "  - **Median Imputation:** Quick fix, keeps sample size, but reduces variance and creates artificial spike.\n",
    "  - **KNN Imputation:** Keeps all rows, preserves distribution more naturally by using correlated features.\n",
    "- **Recommendation:** \n",
    "  - If dataset is small → prefer **imputation**.  \n",
    "  - For realistic modeling → **KNN Imputation** is preferred.  \n",
    "  - For fast/simple solution → **Median Imputation** is acceptable."
   ]
  }
 ],
 "metadata": {
  "kernelspec": {
   "display_name": "Python 3 (ipykernel)",
   "language": "python",
   "name": "python3"
  },
  "language_info": {
   "codemirror_mode": {
    "name": "ipython",
    "version": 3
   },
   "file_extension": ".py",
   "mimetype": "text/x-python",
   "name": "python",
   "nbconvert_exporter": "python",
   "pygments_lexer": "ipython3",
   "version": "3.12.6"
  }
 },
 "nbformat": 4,
 "nbformat_minor": 5
}
